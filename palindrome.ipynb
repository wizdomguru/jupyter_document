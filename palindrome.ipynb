{
 "cells": [
  {
   "cell_type": "code",
   "execution_count": 1,
   "id": "189d60e8-430b-41a1-abe5-4c14dabc6d6e",
   "metadata": {},
   "outputs": [
    {
     "name": "stdout",
     "output_type": "stream",
     "text": [
      "hello Saravanan\n"
     ]
    }
   ],
   "source": [
    "print('hello Saravanan')"
   ]
  },
  {
   "cell_type": "code",
   "execution_count": 10,
   "id": "703dbe69-dc89-4855-b68e-6bc2daf0cb18",
   "metadata": {},
   "outputs": [
    {
     "data": {
      "text/plain": [
       "'Yes it is Palindrome'"
      ]
     },
     "execution_count": 10,
     "metadata": {},
     "output_type": "execute_result"
    }
   ],
   "source": [
    "#palindrome inbuilt function method\n",
    "def ispalindrome(s):\n",
    "    if s == s[::-1]:\n",
    "        return 'Yes it is Palindrome'\n",
    "    else: return 'Nope'\n",
    "\n",
    "s='12321'\n",
    "ispalindrome(s)"
   ]
  },
  {
   "cell_type": "code",
   "execution_count": 4,
   "id": "b056fa59-d3af-4ea7-86d4-9fc20e0c172a",
   "metadata": {},
   "outputs": [
    {
     "data": {
      "text/plain": [
       "'not palindrome'"
      ]
     },
     "execution_count": 4,
     "metadata": {},
     "output_type": "execute_result"
    }
   ],
   "source": [
    "#palindrome in manual method using for loop\n",
    "def is_palindrome_manual(s):\n",
    "    for i in range(0,int(len(s)/2)) :\n",
    "        if s[i] != s[-1-i]:return 'not palindrome' \n",
    "    return 'it is palindrome'\n",
    "s='masdam'\n",
    "is_palindrome_manual(s)\n",
    "        "
   ]
  },
  {
   "cell_type": "code",
   "execution_count": 46,
   "id": "eb57053e-6f5b-4462-8288-73908ed20bf4",
   "metadata": {},
   "outputs": [
    {
     "name": "stdout",
     "output_type": "stream",
     "text": [
      "Longest_palindrome in substring:  aba\n",
      "Count of all possible palindromes:  9\n",
      "List of All Palindromic Substrings ['a', 'b', 'aba', 'a', 'aa', 'a', 'aaa', 'aa', 'a']\n"
     ]
    }
   ],
   "source": [
    "#Check longest palindrome in a word\n",
    "\n",
    "def longestpalindrome(s):\n",
    "    result=[]\n",
    "    count=0\n",
    "    start, end = 0, 0\n",
    "    for i in range(len(s)):\n",
    "        # Odd length\n",
    "        l, r = i, i\n",
    "        while l >= 0 and r < len(s) and s[l] == s[r]:\n",
    "            count+=1\n",
    "            result.append(s[l:r+1])\n",
    "            if (r - l) > (end - start):\n",
    "                start, end = l, r\n",
    "            l -= 1\n",
    "            r += 1\n",
    "        # Even length\n",
    "        l, r = i, i + 1\n",
    "        while l >= 0 and r < len(s) and s[l] == s[r]:\n",
    "            count+=1\n",
    "            result.append(s[l:r+1])\n",
    "            if (r - l) > (end - start):\n",
    "                start, end = l, r\n",
    "            l -= 1\n",
    "            r += 1\n",
    "    longest_palin=s[start:end + 1]\n",
    "    return longest_palin,count,result\n",
    "s='abaaa'\n",
    "longest_palin,count,result=longestpalindrome(s)\n",
    "print('Longest_palindrome in substring: ',longest_palin)\n",
    "print('Count of all possible palindromes: ',count)\n",
    "print('List of All Palindromic Substrings',result )\n",
    "        "
   ]
  },
  {
   "cell_type": "code",
   "execution_count": 47,
   "id": "8ca53031-d02c-40cf-9cbc-16ea841963c5",
   "metadata": {},
   "outputs": [
    {
     "data": {
      "text/plain": [
       "'Yes it is Palindrome'"
      ]
     },
     "execution_count": 47,
     "metadata": {},
     "output_type": "execute_result"
    }
   ],
   "source": [
    "#Check for palindrome number (e.g. 121, 12321)\n",
    "def ispalindrome(s):\n",
    "    if s == s[::-1]:\n",
    "        return 'Yes it is Palindrome'\n",
    "    return 'Nope'\n",
    "\n",
    "s='121'\n",
    "ispalindrome(s)"
   ]
  },
  {
   "cell_type": "code",
   "execution_count": 42,
   "id": "3a380140-1b8b-4146-882a-80955bba8a37",
   "metadata": {},
   "outputs": [
    {
     "name": "stdout",
     "output_type": "stream",
     "text": [
      "1nolemonnomelon1\n"
     ]
    },
    {
     "data": {
      "text/plain": [
       "'Yes'"
      ]
     },
     "execution_count": 42,
     "metadata": {},
     "output_type": "execute_result"
    }
   ],
   "source": [
    "'''Create a function that:\n",
    "Ignores capital letters\n",
    "Ignores spaces and punctuation\n",
    "Works for phrases like:\n",
    "\"No lemon, no melon\"\n",
    "\"Was it a car or a cat I saw?\"'''\n",
    "\n",
    "import string\n",
    "\n",
    "def is_clean_palindrome(s):\n",
    "    # Step 1: Remove punctuation and spaces\n",
    "    cleaned = ''.join(c.lower() for c in s if c.isalnum())\n",
    "    print(cleaned)\n",
    "    # Step 2: Check if palindrome\n",
    "    return \"Yes\" if cleaned == cleaned[::-1] else \"No\"\n",
    "\n",
    "s='1No lemon,# no melon1'\n",
    "is_clean_palindrome(s)"
   ]
  },
  {
   "cell_type": "code",
   "execution_count": 41,
   "id": "5928a738-c0c4-41f9-9a50-214c87b6df4a",
   "metadata": {},
   "outputs": [
    {
     "name": "stdout",
     "output_type": "stream",
     "text": [
      "True\n"
     ]
    }
   ],
   "source": [
    "a='asd'\n",
    "print(a.isalnum())"
   ]
  },
  {
   "cell_type": "code",
   "execution_count": 3,
   "id": "991a3a79-f120-4c26-a3d2-dc43ba56cfee",
   "metadata": {},
   "outputs": [
    {
     "name": "stdout",
     "output_type": "stream",
     "text": [
      "1\n",
      "1\n",
      "0\n"
     ]
    }
   ],
   "source": [
    "def min_cut_palindrome_partition(s):\n",
    "    n = len(s)\n",
    "    is_palindrome = [[False]*n for _ in range(n)]\n",
    "    #print(is_palindrome)\n",
    "    # Pre-fill the is_palindrome table\n",
    "    for i in range(n):\n",
    "        is_palindrome[i][i] = True  # single characters\n",
    "\n",
    "    for length in range(2, n+1):  # substring lengths\n",
    "        for i in range(n - length + 1):\n",
    "            j = i + length - 1\n",
    "            if s[i] == s[j]:\n",
    "                if length == 2:\n",
    "                    is_palindrome[i][j] = True\n",
    "                else:\n",
    "                    is_palindrome[i][j] = is_palindrome[i+1][j-1]\n",
    "\n",
    "    # dp[i] = min cuts for substring s[0:i+1]\n",
    "    dp = [0]*n\n",
    "    for i in range(n):\n",
    "        if is_palindrome[0][i]:\n",
    "            dp[i] = 0\n",
    "        else:\n",
    "            dp[i] = i\n",
    "            for j in range(i):\n",
    "                if is_palindrome[j+1][i]:\n",
    "                    dp[i] = min(dp[i], dp[j]+1)\n",
    "\n",
    "    return dp[-1]  # Minimum cuts needed\n",
    "print(min_cut_palindrome_partition(\"aab\"))     # Output: 1 ([\"aa\", \"b\"])\n",
    "print(min_cut_palindrome_partition(\"banana\"))  # Output: 1 ([\"banan\", \"a\"] not valid, but [\"b\", \"anana\"] is)\n",
    "print(min_cut_palindrome_partition(\"racecar\")) # Output: 0\n"
   ]
  },
  {
   "cell_type": "code",
   "execution_count": 9,
   "id": "015e3a53-1bf9-499d-a923-6049b57f7d42",
   "metadata": {},
   "outputs": [
    {
     "name": "stdout",
     "output_type": "stream",
     "text": [
      "[[False, False, False], [False, False, False], [False, False, False]]\n",
      "[[True, False, False], [False, False, False], [False, False, False]]\n",
      "[[True, True, False], [False, False, False], [False, False, False]]\n",
      "[[True, True, False], [False, True, False], [False, False, False]]\n",
      "[[True, True, False], [False, True, False], [False, False, True]]\n",
      "1\n"
     ]
    }
   ],
   "source": [
    "def min_palindrome_cuts(s):\n",
    "    n = len(s)\n",
    "    is_palin = [[False] * n for _ in range(n)]\n",
    "    print(is_palin)\n",
    "    cuts = [0] * n\n",
    "\n",
    "    for i in range(n):\n",
    "        min_cut = i  # max cuts = i cuts (all single letters)\n",
    "        for j in range(i + 1):\n",
    "            if s[j] == s[i] and (i - j <= 1 or is_palin[j + 1][i - 1]):\n",
    "                is_palin[j][i] = True\n",
    "                print(is_palin)\n",
    "                min_cut = 0 if j == 0 else min(min_cut, cuts[j - 1] + 1)\n",
    "        cuts[i] = min_cut\n",
    "\n",
    "    return cuts[-1]\n",
    "s = \"aab\"\n",
    "print(min_palindrome_cuts(s))  # Output: 2\n"
   ]
  },
  {
   "cell_type": "code",
   "execution_count": null,
   "id": "28500c4a-0392-4c87-968f-7c93c73bf54e",
   "metadata": {},
   "outputs": [],
   "source": []
  }
 ],
 "metadata": {
  "kernelspec": {
   "display_name": "Python 3 (ipykernel)",
   "language": "python",
   "name": "python3"
  },
  "language_info": {
   "codemirror_mode": {
    "name": "ipython",
    "version": 3
   },
   "file_extension": ".py",
   "mimetype": "text/x-python",
   "name": "python",
   "nbconvert_exporter": "python",
   "pygments_lexer": "ipython3",
   "version": "3.11.6"
  }
 },
 "nbformat": 4,
 "nbformat_minor": 5
}
